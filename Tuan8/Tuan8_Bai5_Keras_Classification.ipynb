{
  "nbformat": 4,
  "nbformat_minor": 0,
  "metadata": {
    "colab": {
      "name": "Tuan8-Bai5 Keras Classification.ipynb",
      "provenance": [],
      "collapsed_sections": [],
      "authorship_tag": "ABX9TyNjeg4hhlyJvhTJ47+OtEIa",
      "include_colab_link": true
    },
    "kernelspec": {
      "name": "python3",
      "display_name": "Python 3"
    },
    "accelerator": "GPU"
  },
  "cells": [
    {
      "cell_type": "markdown",
      "metadata": {
        "id": "view-in-github",
        "colab_type": "text"
      },
      "source": [
        "<a href=\"https://colab.research.google.com/github/TanThinNguyen/aivietnam-course/blob/master/Tuan8/Tuan8_Bai5_Keras_Classification.ipynb\" target=\"_parent\"><img src=\"https://colab.research.google.com/assets/colab-badge.svg\" alt=\"Open In Colab\"/></a>"
      ]
    },
    {
      "cell_type": "code",
      "metadata": {
        "id": "K-PnL5gS0B2g",
        "colab_type": "code",
        "colab": {
          "base_uri": "https://localhost:8080/",
          "height": 72
        },
        "outputId": "ba7c3f08-d8ad-4d66-97d8-5fb71e1f9e5c"
      },
      "source": [
        "import tensorflow as tf\n",
        "\n",
        "# load data\n",
        "mnist = tf.keras.datasets.mnist\n",
        "(x_train, y_train), (x_test, y_test) = mnist.load_data()\n",
        "\n",
        "# normalize\n",
        "x_train = x_train/255.0\n",
        "x_test = x_test/255.0\n",
        "m_train = x_train.shape[0]  # num of datapoints"
      ],
      "execution_count": null,
      "outputs": [
        {
          "output_type": "stream",
          "text": [
            "Downloading data from https://storage.googleapis.com/tensorflow/tf-keras-datasets/mnist.npz\n",
            "11493376/11490434 [==============================] - 0s 0us/step\n"
          ],
          "name": "stdout"
        }
      ]
    },
    {
      "cell_type": "code",
      "metadata": {
        "id": "37afTU6NOQ3F",
        "colab_type": "code",
        "colab": {
          "base_uri": "https://localhost:8080/",
          "height": 52
        },
        "outputId": "25d70d43-1cb0-4d6e-f10f-baeea34490cf"
      },
      "source": [
        "print(x_train.shape)    # (60000, 28, 28)\n",
        "print(y_train.shape)    # (60000,)"
      ],
      "execution_count": null,
      "outputs": [
        {
          "output_type": "stream",
          "text": [
            "(60000, 28, 28)\n",
            "(60000,)\n"
          ],
          "name": "stdout"
        }
      ]
    },
    {
      "cell_type": "code",
      "metadata": {
        "id": "tNh9gVTBOeDd",
        "colab_type": "code",
        "colab": {
          "base_uri": "https://localhost:8080/",
          "height": 879
        },
        "outputId": "daf964dd-e113-495f-cb44-df95ed2fa7ce"
      },
      "source": [
        "x_train"
      ],
      "execution_count": null,
      "outputs": [
        {
          "output_type": "execute_result",
          "data": {
            "text/plain": [
              "array([[[0, 0, 0, ..., 0, 0, 0],\n",
              "        [0, 0, 0, ..., 0, 0, 0],\n",
              "        [0, 0, 0, ..., 0, 0, 0],\n",
              "        ...,\n",
              "        [0, 0, 0, ..., 0, 0, 0],\n",
              "        [0, 0, 0, ..., 0, 0, 0],\n",
              "        [0, 0, 0, ..., 0, 0, 0]],\n",
              "\n",
              "       [[0, 0, 0, ..., 0, 0, 0],\n",
              "        [0, 0, 0, ..., 0, 0, 0],\n",
              "        [0, 0, 0, ..., 0, 0, 0],\n",
              "        ...,\n",
              "        [0, 0, 0, ..., 0, 0, 0],\n",
              "        [0, 0, 0, ..., 0, 0, 0],\n",
              "        [0, 0, 0, ..., 0, 0, 0]],\n",
              "\n",
              "       [[0, 0, 0, ..., 0, 0, 0],\n",
              "        [0, 0, 0, ..., 0, 0, 0],\n",
              "        [0, 0, 0, ..., 0, 0, 0],\n",
              "        ...,\n",
              "        [0, 0, 0, ..., 0, 0, 0],\n",
              "        [0, 0, 0, ..., 0, 0, 0],\n",
              "        [0, 0, 0, ..., 0, 0, 0]],\n",
              "\n",
              "       ...,\n",
              "\n",
              "       [[0, 0, 0, ..., 0, 0, 0],\n",
              "        [0, 0, 0, ..., 0, 0, 0],\n",
              "        [0, 0, 0, ..., 0, 0, 0],\n",
              "        ...,\n",
              "        [0, 0, 0, ..., 0, 0, 0],\n",
              "        [0, 0, 0, ..., 0, 0, 0],\n",
              "        [0, 0, 0, ..., 0, 0, 0]],\n",
              "\n",
              "       [[0, 0, 0, ..., 0, 0, 0],\n",
              "        [0, 0, 0, ..., 0, 0, 0],\n",
              "        [0, 0, 0, ..., 0, 0, 0],\n",
              "        ...,\n",
              "        [0, 0, 0, ..., 0, 0, 0],\n",
              "        [0, 0, 0, ..., 0, 0, 0],\n",
              "        [0, 0, 0, ..., 0, 0, 0]],\n",
              "\n",
              "       [[0, 0, 0, ..., 0, 0, 0],\n",
              "        [0, 0, 0, ..., 0, 0, 0],\n",
              "        [0, 0, 0, ..., 0, 0, 0],\n",
              "        ...,\n",
              "        [0, 0, 0, ..., 0, 0, 0],\n",
              "        [0, 0, 0, ..., 0, 0, 0],\n",
              "        [0, 0, 0, ..., 0, 0, 0]]], dtype=uint8)"
            ]
          },
          "metadata": {
            "tags": []
          },
          "execution_count": 5
        }
      ]
    },
    {
      "cell_type": "code",
      "metadata": {
        "id": "9ku3jjlQOgZA",
        "colab_type": "code",
        "colab": {
          "base_uri": "https://localhost:8080/",
          "height": 34
        },
        "outputId": "6abb1aa5-6a8b-4b74-c314-4efcdb67e667"
      },
      "source": [
        "y_train"
      ],
      "execution_count": null,
      "outputs": [
        {
          "output_type": "execute_result",
          "data": {
            "text/plain": [
              "array([5, 0, 4, ..., 5, 6, 8], dtype=uint8)"
            ]
          },
          "metadata": {
            "tags": []
          },
          "execution_count": 6
        }
      ]
    },
    {
      "cell_type": "code",
      "metadata": {
        "id": "bYdzHNxpOj8Q",
        "colab_type": "code",
        "colab": {}
      },
      "source": [
        "from tensorflow.keras import Sequential\n",
        "from tensorflow.keras.layers import Dense\n",
        "from tensorflow.keras.layers import Flatten\n",
        "from tensorflow.keras.optimizers import Adam\n",
        "from tensorflow.keras.losses import SparseCategoricalCrossentropy"
      ],
      "execution_count": null,
      "outputs": []
    },
    {
      "cell_type": "markdown",
      "metadata": {
        "id": "Mo3U_kJa5kSm",
        "colab_type": "text"
      },
      "source": [
        "Xây dựng mô hình dùng **Softmax Classifier**"
      ]
    },
    {
      "cell_type": "code",
      "metadata": {
        "id": "WqpR2mKOPonn",
        "colab_type": "code",
        "colab": {
          "base_uri": "https://localhost:8080/",
          "height": 228
        },
        "outputId": "640b22c3-4e32-4c40-82db-505e3d857464"
      },
      "source": [
        "# model construction\n",
        "model = Sequential([\n",
        "    Flatten(input_shape=(28, 28)),  # duối ma trận 28x28 thành vector\n",
        "    Dense(units=10, activation=\"softmax\")\n",
        "])\n",
        "\n",
        "# complie and train\n",
        "model.compile(optimizer=\"adam\",\n",
        "              loss=\"sparse_categorical_crossentropy\",\n",
        "              metrics=[\"accuracy\"])\n",
        "\n",
        "model.summary()"
      ],
      "execution_count": null,
      "outputs": [
        {
          "output_type": "stream",
          "text": [
            "Model: \"sequential\"\n",
            "_________________________________________________________________\n",
            "Layer (type)                 Output Shape              Param #   \n",
            "=================================================================\n",
            "flatten (Flatten)            (None, 784)               0         \n",
            "_________________________________________________________________\n",
            "dense (Dense)                (None, 10)                7850      \n",
            "=================================================================\n",
            "Total params: 7,850\n",
            "Trainable params: 7,850\n",
            "Non-trainable params: 0\n",
            "_________________________________________________________________\n"
          ],
          "name": "stdout"
        }
      ]
    },
    {
      "cell_type": "code",
      "metadata": {
        "id": "W0hyfLaQTZQS",
        "colab_type": "code",
        "colab": {
          "base_uri": "https://localhost:8080/",
          "height": 721
        },
        "outputId": "a8cfff51-297d-437a-fe50-7754d3821b40"
      },
      "source": [
        "# training\n",
        "history = model.fit(x_train, y_train, validation_split=0.2, epochs=20, verbose=1)"
      ],
      "execution_count": null,
      "outputs": [
        {
          "output_type": "stream",
          "text": [
            "Epoch 1/20\n",
            "1500/1500 [==============================] - 5s 3ms/step - loss: 0.5119 - accuracy: 0.8697 - val_loss: 0.3159 - val_accuracy: 0.9137\n",
            "Epoch 2/20\n",
            "1500/1500 [==============================] - 5s 4ms/step - loss: 0.3180 - accuracy: 0.9113 - val_loss: 0.2951 - val_accuracy: 0.9163\n",
            "Epoch 3/20\n",
            "1500/1500 [==============================] - 5s 3ms/step - loss: 0.2936 - accuracy: 0.9176 - val_loss: 0.2728 - val_accuracy: 0.9266\n",
            "Epoch 4/20\n",
            "1500/1500 [==============================] - 5s 3ms/step - loss: 0.2811 - accuracy: 0.9216 - val_loss: 0.2692 - val_accuracy: 0.9258\n",
            "Epoch 5/20\n",
            "1500/1500 [==============================] - 5s 3ms/step - loss: 0.2736 - accuracy: 0.9241 - val_loss: 0.2656 - val_accuracy: 0.9275\n",
            "Epoch 6/20\n",
            "1500/1500 [==============================] - 5s 3ms/step - loss: 0.2679 - accuracy: 0.9244 - val_loss: 0.2692 - val_accuracy: 0.9265\n",
            "Epoch 7/20\n",
            "1500/1500 [==============================] - 5s 3ms/step - loss: 0.2641 - accuracy: 0.9266 - val_loss: 0.2637 - val_accuracy: 0.9268\n",
            "Epoch 8/20\n",
            "1500/1500 [==============================] - 5s 3ms/step - loss: 0.2602 - accuracy: 0.9275 - val_loss: 0.2603 - val_accuracy: 0.9283\n",
            "Epoch 9/20\n",
            "1500/1500 [==============================] - 5s 3ms/step - loss: 0.2576 - accuracy: 0.9280 - val_loss: 0.2603 - val_accuracy: 0.9300\n",
            "Epoch 10/20\n",
            "1500/1500 [==============================] - 5s 3ms/step - loss: 0.2553 - accuracy: 0.9286 - val_loss: 0.2612 - val_accuracy: 0.9287\n",
            "Epoch 11/20\n",
            "1500/1500 [==============================] - 5s 3ms/step - loss: 0.2529 - accuracy: 0.9297 - val_loss: 0.2611 - val_accuracy: 0.9295\n",
            "Epoch 12/20\n",
            "1500/1500 [==============================] - 5s 3ms/step - loss: 0.2513 - accuracy: 0.9299 - val_loss: 0.2602 - val_accuracy: 0.9293\n",
            "Epoch 13/20\n",
            "1500/1500 [==============================] - 5s 3ms/step - loss: 0.2496 - accuracy: 0.9303 - val_loss: 0.2609 - val_accuracy: 0.9289\n",
            "Epoch 14/20\n",
            "1500/1500 [==============================] - 4s 3ms/step - loss: 0.2475 - accuracy: 0.9311 - val_loss: 0.2651 - val_accuracy: 0.9288\n",
            "Epoch 15/20\n",
            "1500/1500 [==============================] - 4s 3ms/step - loss: 0.2465 - accuracy: 0.9308 - val_loss: 0.2622 - val_accuracy: 0.9302\n",
            "Epoch 16/20\n",
            "1500/1500 [==============================] - 4s 3ms/step - loss: 0.2454 - accuracy: 0.9316 - val_loss: 0.2607 - val_accuracy: 0.9305\n",
            "Epoch 17/20\n",
            "1500/1500 [==============================] - 4s 3ms/step - loss: 0.2443 - accuracy: 0.9319 - val_loss: 0.2641 - val_accuracy: 0.9289\n",
            "Epoch 18/20\n",
            "1500/1500 [==============================] - 5s 3ms/step - loss: 0.2434 - accuracy: 0.9324 - val_loss: 0.2594 - val_accuracy: 0.9308\n",
            "Epoch 19/20\n",
            "1500/1500 [==============================] - 5s 3ms/step - loss: 0.2426 - accuracy: 0.9326 - val_loss: 0.2652 - val_accuracy: 0.9294\n",
            "Epoch 20/20\n",
            "1500/1500 [==============================] - 5s 3ms/step - loss: 0.2412 - accuracy: 0.9329 - val_loss: 0.2636 - val_accuracy: 0.9296\n"
          ],
          "name": "stdout"
        }
      ]
    },
    {
      "cell_type": "code",
      "metadata": {
        "id": "fNem1xheWX99",
        "colab_type": "code",
        "colab": {}
      },
      "source": [
        "history.history"
      ],
      "execution_count": null,
      "outputs": []
    },
    {
      "cell_type": "code",
      "metadata": {
        "id": "yiI65Mv1YdZ-",
        "colab_type": "code",
        "colab": {
          "base_uri": "https://localhost:8080/",
          "height": 34
        },
        "outputId": "e9f531f8-38fa-46a8-82b4-79b3529a2253"
      },
      "source": [
        "history.epoch"
      ],
      "execution_count": null,
      "outputs": [
        {
          "output_type": "execute_result",
          "data": {
            "text/plain": [
              "[0, 1, 2, 3, 4, 5, 6, 7, 8, 9, 10, 11, 12, 13, 14, 15, 16, 17, 18, 19]"
            ]
          },
          "metadata": {
            "tags": []
          },
          "execution_count": 21
        }
      ]
    },
    {
      "cell_type": "code",
      "metadata": {
        "id": "wPStImORXAhN",
        "colab_type": "code",
        "colab": {
          "base_uri": "https://localhost:8080/",
          "height": 279
        },
        "outputId": "44d2d626-fb80-4d6a-915c-9e8f55b9240e"
      },
      "source": [
        "import matplotlib.pyplot as plt\n",
        "import numpy as np\n",
        "\n",
        "plt.figure()\n",
        "\n",
        "plt.xlabel(\"Epoch\")\n",
        "plt.ylabel(\"Accuracy\")\n",
        "\n",
        "plt.plot(history.epoch, history.history[\"accuracy\"], label=\"Train Accuracy\")\n",
        "plt.plot(history.epoch, history.history[\"val_accuracy\"], label=\"Valid Accuracy\")\n",
        "\n",
        "plt.legend()\n",
        "plt.show()"
      ],
      "execution_count": null,
      "outputs": [
        {
          "output_type": "display_data",
          "data": {
            "image/png": "[encoded data removed]",
            "text/plain": [
              "<Figure size 432x288 with 1 Axes>"
            ]
          },
          "metadata": {
            "tags": [],
            "needs_background": "light"
          }
        }
      ]
    },
    {
      "cell_type": "code",
      "metadata": {
        "id": "KxQtKtGNYXUb",
        "colab_type": "code",
        "colab": {
          "base_uri": "https://localhost:8080/",
          "height": 279
        },
        "outputId": "72768c4d-8a94-4230-fc5c-cf2baa0cbe9b"
      },
      "source": [
        "plt.figure()\n",
        "\n",
        "plt.xlabel(\"Epoch\")\n",
        "plt.ylabel(\"Loss\")\n",
        "\n",
        "plt.plot(history.epoch, history.history[\"loss\"], label=\"Train loss\", color=\"r\")\n",
        "plt.plot(history.epoch, history.history[\"val_loss\"], label=\"Valid loss\", color=\"g\")\n",
        "\n",
        "plt.legend()\n",
        "plt.show()"
      ],
      "execution_count": null,
      "outputs": [
        {
          "output_type": "display_data",
          "data": {
            "image/png": "[encoded data removed]",
            "text/plain": [
              "<Figure size 432x288 with 1 Axes>"
            ]
          },
          "metadata": {
            "tags": [],
            "needs_background": "light"
          }
        }
      ]
    },
    {
      "cell_type": "markdown",
      "metadata": {
        "id": "8yM4TWIfAQ2N",
        "colab_type": "text"
      },
      "source": [
        "Xây dựng mô hình dùng **MLP**"
      ]
    },
    {
      "cell_type": "code",
      "metadata": {
        "id": "LIQcU4vYAUge",
        "colab_type": "code",
        "colab": {
          "base_uri": "https://localhost:8080/",
          "height": 298
        },
        "outputId": "87315adf-60c1-4a1c-8335-3220d448f577"
      },
      "source": [
        "# model construction\n",
        "model1 = Sequential([\n",
        "    Flatten(input_shape=(28, 28)),\n",
        "    Dense(units=64, activation=\"relu\"),\n",
        "    Dense(units=64, activation=\"relu\"),\n",
        "    Dense(units=10, activation=\"softmax\")\n",
        "])\n",
        "\n",
        "# compile\n",
        "model1.compile(optimizer=\"adam\",\n",
        "               loss=\"sparse_categorical_crossentropy\",\n",
        "               metrics=[\"accuracy\"])\n",
        "\n",
        "model1.summary()"
      ],
      "execution_count": null,
      "outputs": [
        {
          "output_type": "stream",
          "text": [
            "Model: \"sequential_1\"\n",
            "_________________________________________________________________\n",
            "Layer (type)                 Output Shape              Param #   \n",
            "=================================================================\n",
            "flatten_1 (Flatten)          (None, 784)               0         \n",
            "_________________________________________________________________\n",
            "dense_1 (Dense)              (None, 64)                50240     \n",
            "_________________________________________________________________\n",
            "dense_2 (Dense)              (None, 64)                4160      \n",
            "_________________________________________________________________\n",
            "dense_3 (Dense)              (None, 10)                650       \n",
            "=================================================================\n",
            "Total params: 55,050\n",
            "Trainable params: 55,050\n",
            "Non-trainable params: 0\n",
            "_________________________________________________________________\n"
          ],
          "name": "stdout"
        }
      ]
    },
    {
      "cell_type": "code",
      "metadata": {
        "id": "iS4YbrOnCTSc",
        "colab_type": "code",
        "colab": {
          "base_uri": "https://localhost:8080/",
          "height": 721
        },
        "outputId": "f6cb0b73-3cb0-44cf-b905-2250590e76b2"
      },
      "source": [
        "# train\n",
        "history = model1.fit(x_train, y_train, epochs=20, validation_split=0.2, verbose=1)"
      ],
      "execution_count": null,
      "outputs": [
        {
          "output_type": "stream",
          "text": [
            "Epoch 1/20\n",
            "1500/1500 [==============================] - 5s 3ms/step - loss: 0.3105 - accuracy: 0.9119 - val_loss: 0.1660 - val_accuracy: 0.9497\n",
            "Epoch 2/20\n",
            "1500/1500 [==============================] - 5s 3ms/step - loss: 0.1358 - accuracy: 0.9592 - val_loss: 0.1198 - val_accuracy: 0.9655\n",
            "Epoch 3/20\n",
            "1500/1500 [==============================] - 5s 3ms/step - loss: 0.0984 - accuracy: 0.9703 - val_loss: 0.1302 - val_accuracy: 0.9615\n",
            "Epoch 4/20\n",
            "1500/1500 [==============================] - 5s 3ms/step - loss: 0.0781 - accuracy: 0.9761 - val_loss: 0.1038 - val_accuracy: 0.9683\n",
            "Epoch 5/20\n",
            "1500/1500 [==============================] - 6s 4ms/step - loss: 0.0624 - accuracy: 0.9812 - val_loss: 0.1031 - val_accuracy: 0.9682\n",
            "Epoch 6/20\n",
            "1500/1500 [==============================] - 6s 4ms/step - loss: 0.0529 - accuracy: 0.9833 - val_loss: 0.1143 - val_accuracy: 0.9678\n",
            "Epoch 7/20\n",
            "1500/1500 [==============================] - 5s 3ms/step - loss: 0.0453 - accuracy: 0.9857 - val_loss: 0.1006 - val_accuracy: 0.9712\n",
            "Epoch 8/20\n",
            "1500/1500 [==============================] - 5s 4ms/step - loss: 0.0379 - accuracy: 0.9880 - val_loss: 0.0954 - val_accuracy: 0.9744\n",
            "Epoch 9/20\n",
            "1500/1500 [==============================] - 5s 3ms/step - loss: 0.0330 - accuracy: 0.9896 - val_loss: 0.1046 - val_accuracy: 0.9720\n",
            "Epoch 10/20\n",
            "1500/1500 [==============================] - 5s 3ms/step - loss: 0.0286 - accuracy: 0.9906 - val_loss: 0.1061 - val_accuracy: 0.9716\n",
            "Epoch 11/20\n",
            "1500/1500 [==============================] - 5s 3ms/step - loss: 0.0256 - accuracy: 0.9915 - val_loss: 0.1115 - val_accuracy: 0.9733\n",
            "Epoch 12/20\n",
            "1500/1500 [==============================] - 5s 3ms/step - loss: 0.0222 - accuracy: 0.9924 - val_loss: 0.1183 - val_accuracy: 0.9710\n",
            "Epoch 13/20\n",
            "1500/1500 [==============================] - 5s 3ms/step - loss: 0.0213 - accuracy: 0.9928 - val_loss: 0.1271 - val_accuracy: 0.9715\n",
            "Epoch 14/20\n",
            "1500/1500 [==============================] - 5s 3ms/step - loss: 0.0197 - accuracy: 0.9929 - val_loss: 0.1211 - val_accuracy: 0.9743\n",
            "Epoch 15/20\n",
            "1500/1500 [==============================] - 5s 3ms/step - loss: 0.0157 - accuracy: 0.9948 - val_loss: 0.1134 - val_accuracy: 0.9737\n",
            "Epoch 16/20\n",
            "1500/1500 [==============================] - 5s 3ms/step - loss: 0.0160 - accuracy: 0.9949 - val_loss: 0.1402 - val_accuracy: 0.9697\n",
            "Epoch 17/20\n",
            "1500/1500 [==============================] - 5s 3ms/step - loss: 0.0153 - accuracy: 0.9951 - val_loss: 0.1248 - val_accuracy: 0.9756\n",
            "Epoch 18/20\n",
            "1500/1500 [==============================] - 5s 3ms/step - loss: 0.0133 - accuracy: 0.9956 - val_loss: 0.1336 - val_accuracy: 0.9746\n",
            "Epoch 19/20\n",
            "1500/1500 [==============================] - 5s 3ms/step - loss: 0.0128 - accuracy: 0.9956 - val_loss: 0.1438 - val_accuracy: 0.9728\n",
            "Epoch 20/20\n",
            "1500/1500 [==============================] - 5s 3ms/step - loss: 0.0132 - accuracy: 0.9953 - val_loss: 0.1421 - val_accuracy: 0.9741\n"
          ],
          "name": "stdout"
        }
      ]
    },
    {
      "cell_type": "code",
      "metadata": {
        "id": "pezGJGVsD0Rk",
        "colab_type": "code",
        "colab": {
          "base_uri": "https://localhost:8080/",
          "height": 279
        },
        "outputId": "6b3a73f9-a433-4ed4-82b4-a3aaffe3d6ed"
      },
      "source": [
        "import matplotlib.pyplot as plt\n",
        "\n",
        "plt.figure()\n",
        "plt.xlabel(\"Epoch\")\n",
        "plt.ylabel(\"Accuracy\")\n",
        "\n",
        "plt.plot(history.epoch, history.history[\"accuracy\"], label=\"Train Accuracy\")\n",
        "plt.plot(history.epoch, history.history[\"val_accuracy\"], label=\"Valid Accuracy\")\n",
        "\n",
        "plt.legend()\n",
        "plt.show()"
      ],
      "execution_count": null,
      "outputs": [
        {
          "output_type": "display_data",
          "data": {
            "image/png": "[encoded data removed]",
            "text/plain": [
              "<Figure size 432x288 with 1 Axes>"
            ]
          },
          "metadata": {
            "tags": [],
            "needs_background": "light"
          }
        }
      ]
    },
    {
      "cell_type": "code",
      "metadata": {
        "id": "uUGuIYJHjE0M",
        "colab_type": "code",
        "colab": {
          "base_uri": "https://localhost:8080/",
          "height": 279
        },
        "outputId": "079d9fe0-78cf-42ec-c61a-5b871e3792a1"
      },
      "source": [
        "plt.figure()\n",
        "plt.xlabel(\"Epoch\")\n",
        "plt.ylabel(\"Loss\")\n",
        "\n",
        "plt.plot(history.epoch, history.history[\"loss\"], label=\"Train Loss\", color=\"r\")\n",
        "plt.plot(history.epoch, history.history[\"val_loss\"], label=\"Valid Loss\", color=\"g\")\n",
        "\n",
        "plt.legend()\n",
        "plt.show()"
      ],
      "execution_count": null,
      "outputs": [
        {
          "output_type": "display_data",
          "data": {
            "image/png": "[encoded data removed]",
            "text/plain": [
              "<Figure size 432x288 with 1 Axes>"
            ]
          },
          "metadata": {
            "tags": [],
            "needs_background": "light"
          }
        }
      ]
    }
  ]
}